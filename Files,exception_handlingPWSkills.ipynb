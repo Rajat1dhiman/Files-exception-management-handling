{
  "nbformat": 4,
  "nbformat_minor": 0,
  "metadata": {
    "colab": {
      "provenance": []
    },
    "kernelspec": {
      "name": "python3",
      "display_name": "Python 3"
    },
    "language_info": {
      "name": "python"
    }
  },
  "cells": [
    {
      "cell_type": "markdown",
      "source": [
        "##Theory Questions"
      ],
      "metadata": {
        "id": "Sb6p8ewUCOdt"
      }
    },
    {
      "cell_type": "markdown",
      "source": [
        "1. What is the difference between interpreted and compiled language?\n",
        "\n",
        "Ans. **Interpreted Language**\n",
        "\n",
        "* **Interpretation Process**: In an interpreted language , the code is translated into machine code line-by-line by an interpreter during execution. There is no separate compilation step that produces a stand-alone executable file. The interpreter reads the source code and executes it directly.\n",
        "\n",
        "* **Execution**: The interpreter must be prsent on the machine to execute the code, and the source code is typically required to run it each time.\n",
        "\n",
        "* **Example Languages:** Python, JavaScriprt\n",
        "\n",
        "**Compiled Language:**\n",
        "\n",
        "* **Compilation Process:**In a compiled language ,the code you write is translated into machine code or bytecode by a compiler before it is executed. This happens ahead of time, and the resulting machine code is independant of the source code.\n",
        "\n",
        "* **Execution**: The compiled code can be directly run by the computer's hardware without needing the original source code.\n",
        "\n",
        "* **Example Languages**: C,C++,Rust"
      ],
      "metadata": {
        "id": "RbCBD9DFCb5Q"
      }
    },
    {
      "cell_type": "markdown",
      "source": [
        "2. What is exception handling in Python?\n",
        "\n",
        "Ans. **Exception handling** in Python is a mechanism that allows you to deal with runtime errors in a controlled way. Rather than letting your program crash when an error occurs,Python provides tools to catch and handle exceptions so that your program can recover,display meaningful error messages , or take alternative actions.\n",
        "Here is how exception handling works in Python\n",
        "\n",
        "1. **Try-Except Block**\n",
        "\n",
        "* **try**:You place the code that might cause an exception inside the try block.\n",
        "* **except**: If an exception occurs inside the **try** block, the program immediately jumps to the **except** block,where you can define how to handle the exception.\n",
        "\n",
        "2. **Multiple Except Clauses:**\n",
        "* You can have multiple **except** clauses to catch different types of exceptions and handle them accordingly.\n",
        "\n",
        "3. **Else Block**\n",
        "* The **else** block is executed if no exceptions are raised in the **try** block . It allows you to define code that should run only when the **try** block executed.\n",
        "\n",
        "4. **Finally Block**:\n",
        "* The **finally** block used for code that must execute no matter, whether or not an exception occured. This is typically used for cleanup operations like closing files, releasing resources or resetting certain variables."
      ],
      "metadata": {
        "id": "KpoUFd_aEwPY"
      }
    },
    {
      "cell_type": "markdown",
      "source": [
        "3. What is the purpose of the finally block in exception handling?\n",
        "\n",
        "Ans. The **finally** block in exception handling in Python is used to define code that always gets executed ,regardless of whether an exception was raised or not. This ensures that certain cleanup opeartions or necessary final actions are performed, such as closing files, releasing resources or resetting variables, even if an error occured during execution of the **try** block.\n",
        "\n",
        "**Key Characteristics **:\n",
        "1. **Always Execute**: Code in the **finally** block will run no matter what. It will execute whether an exception was raised or not and whether the exception was caught or not.\n",
        "\n",
        "2. **Clean Code:** it is commonly used for actions like closing files, releasing network connections, or cleaning up resources that should occur regardless of the success or failure of the main code in the **try** block.\n",
        "\n",
        "3. Occurs After **try and except**: the **finally** block is executed after the **try** block and after any **except** block, if they exist."
      ],
      "metadata": {
        "id": "SR4Bx1QpHUfy"
      }
    },
    {
      "cell_type": "markdown",
      "source": [
        "4. What is logging In Python?\n",
        "\n",
        "Ans. **Logging** in Python is a way to track events that happen during the execution of your program. It provides a flexible framework for writing log messages that can help you monitor,debug, and maintain your code. Instead of using **print()** statements for debugging or tracking purposes, Python's built-in **logging** module provides a more robust , scalable and configurable approach.\n",
        "\n",
        "**Why Use Logging?**\n",
        "\n",
        "* **Track events**: You can record what happens during the execution of your program, including important events,errors and warnings.\n",
        "\n",
        "* **Debugging and troubleshooting:** It helps in identifying issues in your code without needing to step through it manually.\n",
        "\n",
        "* **Different log levels:** Logging allows you to categorize messages by severity\n",
        "\n",
        "* **Output to different destinations**: Log messages can be written to different destinations like console, files or remote servers, and can be formatted in a way that is eay to read and understand.\n",
        "\n",
        "* **Configurable:** You can control the level of details to log and where to log them only warnings and errors in production."
      ],
      "metadata": {
        "id": "sdxuRhxNJfN4"
      }
    },
    {
      "cell_type": "markdown",
      "source": [
        "5. What is the significance of __del__ method in python?\n",
        "\n",
        "Ans. In Python, the __del__ method is a special method that is known as **destructor**. It is called when an object is about to be destroyed i.e. , when it is garbage collected. This method allows you to define cleanup actions for the object, such as closing files, releasing resources or performing other necessary finalization tasks before the object is removed from memory.\n",
        "\n",
        "**Key Points**:\n",
        "\n",
        "1. **Automatic Invocation**: The __del__ method is automatically called when the object's reference count reaches zero, which means there are no more references to the object and it is eligible for garbage collection.\n",
        "\n",
        "2. **Resource Cleanup:** You can use the __del__ method to release resources like file habdles, network connections that the object might have acquired during its lifetime.\n",
        "\n",
        "3. **limited Control Over execution**: Since the __del__ method is called when an object is garbage collected, its execution is managed by Python's garbage collector.\n",
        "\n",
        "4. **Not a Replacement for finally**: The __del__ method should not be used as a replacement for the **finally** block in exception handling"
      ],
      "metadata": {
        "id": "YFlBiG5yL1IC"
      }
    },
    {
      "cell_type": "markdown",
      "source": [
        "6. What is the difference between import and from...import in Python?\n",
        "\n",
        "Ans. 1. **import Statement**\n",
        "* When you use **import** statement ,you bring the **entire module** into your current namespace. This means that the functions, classes and variables from that module are accessed using the module's name as a prefix."
      ],
      "metadata": {
        "id": "XGXXU0TNN_de"
      }
    },
    {
      "cell_type": "code",
      "source": [
        "import math\n",
        "print(math.sqrt(16))"
      ],
      "metadata": {
        "colab": {
          "base_uri": "https://localhost:8080/"
        },
        "id": "7jbejfwQO1aE",
        "outputId": "001c4da8-2bde-42be-bc82-7ed103819b7c"
      },
      "execution_count": 1,
      "outputs": [
        {
          "output_type": "stream",
          "name": "stdout",
          "text": [
            "4.0\n"
          ]
        }
      ]
    },
    {
      "cell_type": "markdown",
      "source": [
        "2. **from...import Statement:**\n",
        "\n",
        "* With the **from...import** statement , you can import specific parts of a module directly into your namespace, meaniing you don't have to use the module name as a prefix to access them."
      ],
      "metadata": {
        "id": "ekPoal08PBJb"
      }
    },
    {
      "cell_type": "code",
      "source": [
        "from math import sqrt,pi\n",
        "print(sqrt(16))\n",
        "print(pi)"
      ],
      "metadata": {
        "colab": {
          "base_uri": "https://localhost:8080/"
        },
        "id": "r7j4LAgHO-6-",
        "outputId": "417b9852-5f2a-4c09-bc30-f43ac14a4ec2"
      },
      "execution_count": 2,
      "outputs": [
        {
          "output_type": "stream",
          "name": "stdout",
          "text": [
            "4.0\n",
            "3.141592653589793\n"
          ]
        }
      ]
    },
    {
      "cell_type": "markdown",
      "source": [
        "7. How can you handle multiple exceptions in Python?\n",
        "\n",
        "Ans. In Python, you can handle multiple exceptions by using multiple except clauses or by grouping exceptions in a single 88except88 block. This allows you to deal with different types of exceptions that might occur during the execution of your program ,each in an appropriate way.\n",
        "\n",
        "1. **Using Multiple except Clauses:**\n",
        "You can catch multiple exceptions by specifying a different **except** block for each type of exception you want to handle.\n",
        "\n",
        "2. **Catching Multiple Exceptions in One Except block:**\n",
        "you can also handle multiple exceptions in a single **except** block by specifying a tuple of exceptions. This is useful when you want to handle different exceptions in the same way.\n",
        "\n",
        "3. **Using else and finally with Multiple Exceptions:**\n",
        "You can also combine **else** and **finally** with multiple exception handling. The **else** block will run if no exception is raised in the **try** block and the finally will run regardless of whether an exception was raised or not."
      ],
      "metadata": {
        "id": "5HNf0ncoPkhl"
      }
    },
    {
      "cell_type": "code",
      "source": [
        "from re import X\n",
        "try:\n",
        "  x=int(input(\"Enter a number:\"))\n",
        "  result=10/X\n",
        "except(ValueError, ZeroDivisionError)as e:\n",
        "  print(f\"Error: {e}\")\n",
        "else:\n",
        "  print(f\"Result: {result}\")\n",
        "finally:\n",
        "  print(\"Execution completed.\")\n"
      ],
      "metadata": {
        "colab": {
          "base_uri": "https://localhost:8080/"
        },
        "id": "XwyC_cDmPivf",
        "outputId": "cc425d30-a080-4a30-a06e-7c3abb0fa14f"
      },
      "execution_count": 3,
      "outputs": [
        {
          "output_type": "stream",
          "name": "stdout",
          "text": [
            "Enter a number:15\n",
            "Result: 0.15625\n",
            "Execution completed.\n"
          ]
        }
      ]
    },
    {
      "cell_type": "markdown",
      "source": [
        "8. What is the purpose of the with statement when handling files in Python?\n",
        "\n",
        "Ans. **Purpose of the with Statement in file Handling**\n",
        "\n",
        "1. **Automatic Resource Management**: When using the **with** statement to open  a file,and the file is automatically closed once the block of code is exited, whether the operations inside the block are successful or raise an exception. this prevents the file from remaining open and consuming system resources.\n",
        "\n",
        "2. **Cleaner Code**: Using the **wuth** statement reduces the need for expicit **try, finally, and close()** calls. it simplifies the code and makes it more readable by ensuring that cleanup is handled automatically.\n",
        "\n",
        "3. **Prevents Resources Leaks:**  If a file is not closed properly, it may lead to resource leaks and unexpected behaviour. the **with** statement ensures that the file is always closed, even if an error occurs during the file operations"
      ],
      "metadata": {
        "id": "VFOaon69SMk-"
      }
    },
    {
      "cell_type": "markdown",
      "source": [
        "9. What is the difference between multithreading and multiprocessing?\n",
        "\n",
        "Ans. 1. **Multithreading**\n",
        "\n",
        "* **Definition:** Multithreading involves running multiple threads within a single process . Each thread can execute a different task simultaneously within the same program.\n",
        "\n",
        "* **Thread**: A thread is the smallest unit of execution within a process. Multiple threads can run in the same process and share the memory space.\n",
        "\n",
        "* **Use Case**: Ideal for I/O -bound tasks, such as file rading/writing, network operations, or database queries. These tasks spend a significant amount of time waiting for  input/output operations, and threads can be used to improve the performance during those wait times.\n",
        "\n",
        "* **Global Interpreter Lock(GIL): ** Python has a GIL ,which ensures that only one thread executes Python bytecode at atime. This means that multithreading in Python does not offer true parallelism for CPU-bound tasks because the GIL restricts threads from executing in parallel on multiple CPU cores.\n",
        "\n",
        "2. **Multiprocessing**\n",
        "\n",
        "* **Definition** : Multiprocessing involves running multiple processes, each with its own memory space. Each process runs independently and can be executed on a separate CPU core . This allows true parallelism, makingt it well-suited for CPU bound tasks.\n",
        "\n",
        "* **Process:** A process has its own memory space ,which makes it more isolated than threads. Processes do not share memory, and communivation between processes requires explicit mechanisms\n",
        "\n",
        "* **Use Case**: Ideal for CPU-bound tasks, such as number crunching, data processing ,and tasks requiring heavy computation, because each process can run on a different CPU core.\n",
        "\n",
        "* **No GIL Restriction**: Since each process has its own Python interpreter and memory space, multiprocessing does not face the GIL restriction. This allows true parallel execution on multiple cores."
      ],
      "metadata": {
        "id": "nsViI9YxUBBY"
      }
    },
    {
      "cell_type": "markdown",
      "source": [
        "10. What are the advantages of using logging in a program?\n",
        "\n",
        "Ans. Using Logging in a Python program offers several advantages that improve both development and maintainance. Here are some key benefits:\n",
        "\n",
        "1. **Improved Debugging**\n",
        "* Logging alllows you to track what your program is doing at various points in time. You can log variable values, function calls and errors, which is extremely useful for debugging, especially when the program is running in production or is complex.\n",
        "\n",
        "2. **Better Error Tracking**\n",
        "* Unlike print statements, logs capture detailed error messages and stack traces that help diagnose issues more efficiently. Logs can also capture exceptions, providing context about the error.\n",
        "\n",
        "3. **Granular Log Levels**\n",
        "* Python's **logging** module supports multiple log levels. This allow you to control the verbosity of logs.\n",
        "\n",
        "4. **Persitent Log History**\n",
        "* Logs can be written to files, so you can keep a history of events that occured over time. This is particularly useful for diagnosing issues that may have occured in the past or when you are analyzing trends over time.\n",
        "\n",
        "5. **Centralized Logging**\n",
        "* In large applications, especially distributed systems,logs from multiple sources can be aggregated into a central logging system. This makes it easier to monitor and maintain applications.\n",
        "\n",
        "6. **Non-intrusive**\n",
        "* Logging is non-intrusive compared to using print statements, as you can configure the level of logging detail. This avoids the need to remove print statements from production code, which is prone to error."
      ],
      "metadata": {
        "id": "HFkHJKPgX8sh"
      }
    },
    {
      "cell_type": "markdown",
      "source": [
        "11. What is memory management in Python?\n",
        "\n",
        "Ans. Memory management in Python is a critical aspect of how Python handles data and ensures that resources are efficiently utilized. Here is an overview of how memory management works in Python:\n",
        "\n",
        "1. **Automatic Memory Management**\n",
        "Python uses automatic memory management , meaning it takes care of allocating and deallocating memory for you. You don't need to manually manage memory like in some lower-level languages(such as C or C++).\n",
        "\n",
        "2. **The Memory Manager**\n",
        "Python's memory manager is responsible for mananging the memory used by objects. It works by allocating and freeing memory from different pools ,including heap memory and stack memory.\n",
        "\n",
        "3. **Memory Allocation in Python**\n",
        "Python internally uses a private heap space for storing objects. This heap is managed by Python's memory manager, which ensures efficient memory allocation and deallocation.\n",
        "\n",
        "4. **Reference Counting**\n",
        "Python uses **reference counting** as its primary mechanism for memory management. Each object has an associated reference count, which keeps track of how many references point to that object.\n",
        "\n",
        "5. **Garbage Collection(GC)**\n",
        "While reference counting is theprimary method for memory management, it has a limitation: it can't handle circular references."
      ],
      "metadata": {
        "id": "NAcyuNIgKwPW"
      }
    },
    {
      "cell_type": "markdown",
      "source": [
        "12. What are the basic steps involved in exception handling in Python?\n",
        "\n",
        "Ans. Exception handling in Python is a way to manage errors and exceptional situations that arise during the execution of a program . It allows the program to continue running even if an error occurs. The basic steps involved in exception handling in Python are as follows:\n",
        "\n",
        "1. Identify Code that may raise an exception\n",
        "2. Use **try** block\n",
        "3. Handle Exceptions with **except** Block\n",
        "4. Optional: Use **else** Block\n",
        "5. Optional: Use **finally** Block\n"
      ],
      "metadata": {
        "id": "CTjKt49tNZfF"
      }
    },
    {
      "cell_type": "code",
      "source": [
        "try:\n",
        "  x=int(input(\"Enter a number:\"))\n",
        "  result=10/x\n",
        "except ValueError:\n",
        "  print(\"Invalid input! Please enter a valid number.\")\n",
        "except ZeroDivisionError:\n",
        "  print(\"Cannot divide by zero!\")\n",
        "else:\n",
        "  print(f\"Result of division: {result}\")\n",
        "finally:\n",
        "  print(\"Execution completed.\")"
      ],
      "metadata": {
        "id": "A3weZys7SFey",
        "colab": {
          "base_uri": "https://localhost:8080/"
        },
        "outputId": "7e9a5943-db36-4568-d31b-e1102e6421e7"
      },
      "execution_count": 4,
      "outputs": [
        {
          "output_type": "stream",
          "name": "stdout",
          "text": [
            "Enter a number:15\n",
            "Result of division: 0.6666666666666666\n",
            "Execution completed.\n"
          ]
        }
      ]
    },
    {
      "cell_type": "markdown",
      "source": [
        "13. Why is memory management important in Python?\n",
        "\n",
        "Ans. Memory management is an essential part of Python because it directly impacts the performance, efficiency and reliablity of the program . Proper memory management ensures that a program runs smoothly without consuming excessive resources or encountering memory-related errors. Here are some reasons why memory management is particularly important in Python:\n",
        "\n",
        "1. **Efficient resource Utilization**\n",
        "* Memory Mangement helps ensure that the program uses system resources effectively. If memory is not managed properly, it can lead to issues like:\n",
        "* memory leaks\n",
        "* Out of memory errors.\n",
        "\n",
        "2. **Performance Optimization**\n",
        "* Memory management is crucial for optimizing performance. A poorly managed memory system can lead to unnecessary memory allocations and deallocations, slowing down the program . This can happen when objects are constantly created and discared ,causing:\n",
        "* Fragmentation\n",
        "* Excessive garbage collection\n",
        "\n",
        "3. **Preventing Memory Leaks**\n",
        "* Without proper memory management, a program can accumulate memory that is no longer in use, resulting in memory leaks. Memory leaks happen when references to objects that are no longer needed remain, preventing the garbage collector from reclaiming memory.\n",
        "\n",
        "4. **Automatic Memory Management in Python**\n",
        "* One of Python's major strengths is its **automatic memory management**, where it takes care of aloocating and freeing memory. This makes it easier for developers to focus on logic rather than worrying about manually managing memory.\n"
      ],
      "metadata": {
        "id": "5m_Av7eYPq1n"
      }
    },
    {
      "cell_type": "markdown",
      "source": [
        "14. What is the role of try and except in exception handling?\n",
        "\n",
        "Ans. 1. **The role of the try block**\n",
        "*  The **try** block is used to **wrap the code** that may potentially raise an exception or error.\n",
        "* It allows the program to attempt to run the code and check for any errors that may occur during its execution\n",
        "* If no error occurs inside the **try ** block , the code inside the **except** block is skipped, and the program continues normally.\n",
        "* If an error occurs within the **try** block, Python stops executing the remaining code inside the block and ommediately jumps to the corresponding **except** block(if one exists)\n",
        "\n",
        "2. **The Role of the except Block**\n",
        "* The except block is used to **catch and handle exceptions** that occur in the **try** block.\n",
        "* When an eception is raised inside the **try** block, Python searches for a corresponding **except** block to handle that specific type of exception.\n",
        "* The **except** block provides the oppurtunity to handle the error gracefully, such as by displaying a message, logging the error or performing some recovery action to avoid crashing the program.\n",
        "* You can catch specific exceptions, or you can catch all exceptions using a generic **except** block."
      ],
      "metadata": {
        "id": "0mJm4FDbS0l3"
      }
    },
    {
      "cell_type": "markdown",
      "source": [
        "15. How does Python's garbage collection system works?\n",
        "\n",
        "Ans. Working of Python's Garbage Collection System\n",
        "\n",
        "1. **Reference Counting**\n",
        "The primary method for memory management in Python is **reference Counting**. This means Python keeps track of how many references exist to each object in memory. Each time an object is reffered , its reference count increases. When the reference count drops to zero, the object can be safely deleted and its memory freed.\n",
        "\n",
        "**How it works:**\n",
        "* When you create an object, Python assigns it a reference count of 1.\n",
        "* Each time the object is referenced, the reference count is incremented.\n",
        "* When the reference count reaches 0, the object is no longer accessible ,and Python can free the memory used by the object.\n",
        "\n",
        "2. **Cyclic Garbage Collection**\n",
        "To address the issue of cyclic references , Python includes an additional **garbage collection system** based on **generational collection**.This process looks for groups of objects that are unreachable but still reference each other and frees them.\n",
        "\n",
        "**How it works**\n",
        "* Generations: Python's garbage collector divides objects into **three generations**. Objects are initially created in the young generation. As objects survive more collections, they are promoted to older generations.\n",
        "         * Young generation\n",
        "         * Middle generation\n",
        "         * Old generation\n",
        "3. The **gc** Module\n",
        "Python provides a built-in module, **gc**, to interact wuth the garbage collector. Tis module allows you to:\n",
        "* **Manually trigger garbage collection**\n",
        "* **Inspect the collection process**         \n"
      ],
      "metadata": {
        "id": "OuL_aIDYVc4t"
      }
    },
    {
      "cell_type": "markdown",
      "source": [
        "16. What is the purpose of the else block in exception handling?\n",
        "\n",
        "Ans. **Purpose of the else Block**:\n",
        "1. **Code Execution if No Exception Occurs**: The **else** block you to place code that should execute only if no exceptions were raised in the **try** block. It ensures that error handling is only triggered whwn an actual error occurs. If the **try** block executes without any problems, the code in the **else** block will run.\n",
        "2. **Cleaner Code**: By placing the normal execution code in the **else** block, you can keep the error-handling code in the **except** block distinct and focused on the exceptional cases. this makes the code more readable and organized.\n",
        "3. **Avoid redundancy**: Without the **else** block, you might have to include checks for exceptions in the normal flow of the code. The else block allows you to cleanly separate the regular logic from the error-handling."
      ],
      "metadata": {
        "id": "81QQqqwqYc6W"
      }
    },
    {
      "cell_type": "code",
      "source": [
        "try:\n",
        "  x=10/2\n",
        "except ZeroDivisionError:\n",
        "  print(\"Cannot divide by Zero!\")\n",
        "else:\n",
        "  print(\"Division successful. The result is:\",x)"
      ],
      "metadata": {
        "colab": {
          "base_uri": "https://localhost:8080/"
        },
        "id": "cV3gSNoqaPT6",
        "outputId": "c66a4f1a-f5f1-4b24-e73d-e0f33eab36a1"
      },
      "execution_count": 5,
      "outputs": [
        {
          "output_type": "stream",
          "name": "stdout",
          "text": [
            "Division successful. The result is: 5.0\n"
          ]
        }
      ]
    },
    {
      "cell_type": "markdown",
      "source": [
        "17. What are the common logging levels in Python?\n",
        "\n",
        "Ans. Here are the **common logging levels** in Python, listed from the most detailed to the least detailed:\n",
        "\n",
        "1. **DEBUG**\n",
        "*  **Description:** The lowest level of logging , used fo detailed diagnostic output that is useful for developers when debugging the application.\n",
        "\n",
        "* **Use Case**: You use this level to log information that helps with debugging, such as variable values, function calls or internal states.\n",
        "\n",
        "* **Severity**: Detailed information, typically used only in development or troubleshooting.\n",
        "\n",
        "2. **INFO**\n",
        "* **Description**: A general purpose log level that is used to record informational messages. these are not errors but indicate the normal operation of the program.\n",
        "\n",
        "* **Use case:** You would use this level to log routine events, such as the start of  aprocess, the completion of task or the status of key processes.\n",
        "\n",
        "* **Severity**: Normal operational messages, not necessarily indicative of an issue.\n",
        "\n",
        "3. **WARNING**\n",
        "* **Description**: Indicates that something unexpected happened ,or there is a potential issue, but the program i9s still running as expected.\n",
        "\n",
        "* **use Case**: You would use this level to log situations that are not necessarily errors, but might require attention or indicate suboptimal conditions.\n",
        "\n",
        "* **Severity**: A potential issue or cautrion , but not critical.\n",
        "\n",
        "4. **ERROR**\n",
        "* **Descrpition**: Used to log serious issues that caused the program to fail at a specific task, but the program can still continue running.\n",
        "\n",
        "* **Use case**: This level is used to indicate errors in the program that prevents a specific function from completing successfully, such as failing to open a file, incorrect user input etc.\n",
        "\n",
        "* **Severity**: A significant issue that should be addressed , but does not cause the entire program to crash\n"
      ],
      "metadata": {
        "id": "iPuyPvKOakQ-"
      }
    },
    {
      "cell_type": "markdown",
      "source": [
        "18. What is the difference between os.fork() and multiprocessing in Python?\n",
        "\n",
        "Ans.  1. **os.fork()**\n",
        "\n",
        "* **System Call**: **os.fork()** is a low-level system call that creates a new child process by duplicating the calling process. it is available only on Unix-like OS . When fork() is called, the child process gets  a copy of the parent process's memory space .\n",
        "\n",
        "* **Behavior:**\n",
        "   * It creates a **child process**\n",
        "   * After fork() , both the parent and child processes continue running from the point where **fork()** was called.\n",
        "   * The return value of **os.fork()** distinguishes between the parent and the child.\n",
        "\n",
        "* **Use case**: **os.fork()** is used when you want to manually create a new process, but it is generally lower-level and less flexible than the **multiprocessing** module.   \n",
        "\n",
        "2. **multiprocessing** Module\n",
        "\n",
        "* **Higher-level Abstraction**: The **multiprocessing** module is a high-level way of creating and managing processes in Python. It abstracts away platform-specific details and provides a more Pythonic way to handle multiprocessing across different platforms.\n",
        "\n",
        "* **Behavior**:\n",
        "      * It provides **Process objects** that allow you to spawn new processes, and you can use **target** functions or **args** to control the execution of those processes.\n",
        "      * The **multiprocessing** module also provides tools for inter-process communication, like queues and pipes , as well as shared memory.\n",
        "\n",
        "* **Use case**: It is suitable for most situations where you need to parallelize tasks or handle concurrency in a way that is easier and more scalable than using **os.fork()**      "
      ],
      "metadata": {
        "id": "Bkdal3pVAGVp"
      }
    },
    {
      "cell_type": "markdown",
      "source": [
        "19. What is the importance of closing a file in Python?\n",
        "\n",
        "Ans. Closing a file in Python is crucial for several reasons, primarily to ensure proper resource management and prevent potential issues. Here's why it is important to close a file:\n",
        "\n",
        "1. **Release System Resources**\n",
        "* When you open a file, the OS allocates resources to manage the file. If the file is not closed properly, those resources may not be released.\n",
        "\n",
        "2. **Ensures Data is Written Properly**\n",
        "* When you write to file, Python typically buffers the data in memory before it is written to disk. If the file is not closed, the data may not be written to the file.\n",
        "\n",
        "3. **Prevents Data Corruption**\n",
        "* Files that remain open for long periods or are not closed properly can get **corrupted**.This hapens because the OS may not finish writing or syncing the file to disk.\n",
        "\n",
        "4. **Improves Program Stability**\n",
        "* Keeping files open unnecessarily can lead to **bugs and unexpected behavior**, especially when working with multiple files.\n",
        "\n",
        "5. **File Locks and Access Control**\n",
        "* Some OS may lock files when they arwe open ,preventing other programs or processes from accessing them."
      ],
      "metadata": {
        "id": "HYL3XmnwDgCX"
      }
    },
    {
      "cell_type": "markdown",
      "source": [
        "20. What is the diffrence between file.read() and file.readline() in Python?\n",
        "\n",
        "Ans. 1. **file.read()**\n",
        "\n",
        "* **Reads the entire File:**\n",
        "  * **file.read()** reads the entire contents of the file at once and returns it as  a single string.\n",
        "  * It can be useful when you need to read the whole file into memory for processing.\n",
        "\n",
        "* **Behavoir**:\n",
        "  * If you call **file.read()** multiple times, it will continue from where it last left off in the file, so after the first read, subsequent calls will return empty strings nunless the file pointer is reset.  \n",
        "\n",
        "2 . **file.readline()**\n",
        "* **Reads One Line at a Time:**   \n",
        "    * **file.readline()** reads the file line by line and returns the enxt line as a string, including the newline character (\\n) at the end of the line.\n",
        "    * After reading a line, the file pointer moves to the next line, so subsequent calls will read the next line.\n",
        "\n",
        "* **Behavior**:\n",
        "    * Each cell to **file.readline()** reads **one line ** of the file.\n",
        "    * It is commonly used in loops where you want to process a file line by line without reading the entire file into memory at once.       "
      ],
      "metadata": {
        "id": "mYHk5_8HFiUS"
      }
    },
    {
      "cell_type": "markdown",
      "source": [
        "21. What is the logging module in Python used for?\n",
        "\n",
        "Ans. ** Key Uses of the logging module**\n",
        "\n",
        "1. **Track Events in Your Program**\n",
        "  * The **logging ** module allows you to record various events in your program . This is helpful for debugging and understanding the flow of the program.\n",
        "\n",
        "2. **Categorize Log Messages By severity**\n",
        "   * It provides different severity levels to categorize the importance of log messages, such as:\n",
        "     * DEBUG\n",
        "     * INFO\n",
        "     * WARNING\n",
        "     * ERROR  \n",
        "\n",
        "3. **Output Log Messages to Different Destinations:**\n",
        "  * You can configure the logging module to output log messages to different destinations such as:\n",
        "      * Console/Terminal\n",
        "      * Files\n",
        "      * Remote servers or Services\n",
        "      * Other Destinations\n",
        "\n",
        "4. **Log Filtering and Formatting:**\n",
        " * You can filter log based on severity or specific conditions and format the log messages.\n",
        "\n",
        "5. **Error Handling and Debugging:**\n",
        "  * By logging errors and exceptions , you can track where the program fails and gather additional context."
      ],
      "metadata": {
        "id": "e8mD7UZNH0w7"
      }
    },
    {
      "cell_type": "markdown",
      "source": [
        "22. What is the os module in Python used for in file handling?\n",
        "\n",
        "Ans. The **os ** module in pythonb is a standard library that provides  a way of interacting with the operating system. when it comes to **file handling**, the os module offers several useful functions for working with files and directories.\n",
        "\n",
        "**Common Functions in the os Module for File Handling:**\n",
        "\n",
        "1. **os.rename():** Renaming the file or directory.\n",
        "2. **os.remove():** Removing a file\n",
        "3. **os.unlink():** Also removes a file(same as **os.remove()**)\n",
        "4. **os.path.exists():** Checking if a file or directory exists\n",
        "5. **os.path.isfile():** Checking if the path is a file"
      ],
      "metadata": {
        "id": "iyZ55q1BJw58"
      }
    },
    {
      "cell_type": "markdown",
      "source": [
        "23. What are the challenges associated with memory management in Python?\n",
        "\n",
        "Ans. 1. **Automatic Garbage Collection**\n",
        "\n",
        "* **Challenge**: Python uses an automatic memory management system, including garbage collection (GC), which keeps track of memory allocation and automatically reclaims memory that is no longer in use. However, this system isn't perfect and can lead to inefficiencies.\n",
        "\n",
        "* **Issue**: Python's garbage collector uses a reference-counting mechanism to track the number of references to an object. When an object’s reference count drops to zero, it is freed. But in the case of circular references (e.g., two objects referencing each other), reference counting alone can't handle memory release. The garbage collector is meant to handle this, but it isn't always perfect.\n",
        "* **Solution**: Developers can use the gc module to control and manually trigger garbage collection. Understanding how to avoid circular references and using weak references can help minimize problems with GC.\n",
        "\n",
        "2. **Memory Leaks**\n",
        "\n",
        "* **Challenge**: Memory leaks occur when memory that is no longer needed isn't properly released, leading to the accumulation of unused memory.\n",
        "\n",
        "* **Issue:** In Python, memory leaks often occur when references to objects are not released, preventing the garbage collector from reclaiming that memory. Circular references (e.g., objects referring to each other in a cycle) can sometimes go unnoticed and aren't freed by the GC automatically.\n",
        "\n",
        "* **Solution:** Using tools like gc.collect() to trigger garbage collection manually and tools like objgraph or memory_profiler to track object creation and memory usage can help identify memory leaks. Additionally, avoid creating unnecessary circular references.\n",
        "\n",
        "3. **High Memory Usage for Large Data Structures**\n",
        "\n",
        "* **Challenge:** Python's built-in data structures, such as lists, dictionaries, and sets, are flexible and convenient, but they can be memory-heavy compared to more specialized or optimized data structures in other languages.\n",
        "\n",
        "* **Issue:** Python objects generally have overhead due to their dynamic nature. For example, lists in Python are dynamic arrays, meaning they resize as needed, which leads to wasted memory when lists have unused capacity.\n",
        "\n",
        "* **Solution:** For large data sets, consider using memory-efficient data structures like array.array for homogeneous data or third-party libraries like NumPy for numerical data. Alternatively, consider using generators for iterating over large datasets to avoid loading everything into memory.\n",
        "\n",
        "4. **Dynamic Typing and Object Overhead**\n",
        "\n",
        "* **Challenge:** Python is a dynamically typed language, meaning that types of variables are determined at runtime, which can result in additional memory overhead.\n",
        "* **Issue:** Every Python object comes with metadata (type information, reference count, etc.), which leads to higher memory consumption. For example, a simple integer in Python might consume more memory than an integer in a statically typed language like C.\n",
        "\n",
        "* **Solution:** Optimize memory usage by using specialized data types (like int instead of float when possible) and using third-party libraries that provide more memory-efficient objects."
      ],
      "metadata": {
        "id": "5YefkE8_LQB2"
      }
    },
    {
      "cell_type": "markdown",
      "source": [
        "24. How do you raise an exception manually in Python?\n",
        "\n",
        "Ans. In Python, you can raise an exception manually using the raise keyword. This allows you to trigger an exception when certain conditions are met, providing a way to handle errors and control the flow of your program.\n"
      ],
      "metadata": {
        "id": "lVmYAAJXAtmV"
      }
    },
    {
      "cell_type": "code",
      "source": [
        "#syntax\n",
        "\n",
        "#from typing import Optional\n",
        "#raise [ExceptionType]([OptionalErrorMessage])"
      ],
      "metadata": {
        "id": "i9kfBvA2NYjm"
      },
      "execution_count": 6,
      "outputs": []
    },
    {
      "cell_type": "markdown",
      "source": [
        "* **ExceptionType:** This is the type of the exception you want to raise (e.g., ValueError, TypeError, etc.).\n",
        "\n",
        "* **OptionalErrorMessage:** This is an optional message you can pass to the exception. It provides additional context about the error."
      ],
      "metadata": {
        "id": "DUXqxMi6Nozk"
      }
    },
    {
      "cell_type": "markdown",
      "source": [
        "25. Why is it important to use multithreading in certain applications?\n",
        "\n",
        "Ans. **Multithreading** is a programming technique that allows multiple threads (smaller units of a process) to run concurrently. It is particularly useful in certain applications where tasks can be performed simultaneously or in parallel, improving performance, responsiveness, and efficiency. Here’s why multithreading can be important in some applications:\n",
        "\n",
        "1. **Improved Performance for I/O-Bound Tasks**\n",
        "\n",
        "* **Scenario:** In applications that involve tasks like reading from files, downloading data from the internet, or interacting with databases (I/O-bound tasks), multithreading allows the program to perform other tasks while waiting for I/O operations to complete.\n",
        "\n",
        "* **Benefit:** Instead of blocking the entire application while waiting for an I/O operation to finish, multiple threads can handle multiple tasks concurrently, reducing idle time and improving overall performance.\n",
        "\n",
        "* **Example:** A web server that handles multiple client requests. While waiting for a response from a database or external service, other requests can still be processed.\n",
        "\n",
        "2. **Increased Responsiveness in User Interfaces**\n",
        "\n",
        "* **Scenario:** In applications with a graphical user interface (GUI), like desktop applications or web apps, long-running tasks (e.g., file processing or data fetching) could make the interface unresponsive, leading to a poor user experience.\n",
        "\n",
        "* **Benefit:**By using multithreading, you can run time-consuming tasks in the background while keeping the user interface responsive. This allows users to interact with the program while other tasks are being performed.\n",
        "\n",
        "* **Example:** A file downloader in a desktop app that shows progress while continuing to let the user interact with the interface.\n",
        "\n",
        "3. **Parallel Execution of CPU-Bound Tasks**\n",
        "\n",
        "* **Scenario:** Some applications require intensive computation (CPU-bound tasks), such as simulations, data analysis, or machine learning. Multithreading can divide a large task into smaller ones, allowing the application to perform computations in parallel on multiple CPU cores.\n",
        "\n",
        "* **Benefit:** For applications that perform tasks that can be split into independent subtasks, multithreading helps maximize CPU utilization by allowing multiple threads to run in parallel, thus speeding up processing times."
      ],
      "metadata": {
        "id": "5i9MJnjNNxZN"
      }
    },
    {
      "cell_type": "markdown",
      "source": [
        "##Practical Questions"
      ],
      "metadata": {
        "id": "nridvcfMmW4C"
      }
    },
    {
      "cell_type": "markdown",
      "source": [
        "1. How can you open a file for writing in Python and write a string to it?"
      ],
      "metadata": {
        "id": "mDkoEz_KmaCh"
      }
    },
    {
      "cell_type": "code",
      "source": [
        "file_path=\"example.txt\"\n",
        "with open(file_path,'w')as file:\n",
        "  file.write(\"Hello, this is a string written to the file!\")"
      ],
      "metadata": {
        "id": "UdOlMsyzmoYO"
      },
      "execution_count": 7,
      "outputs": []
    },
    {
      "cell_type": "code",
      "source": [
        "with open(file_path,'a')as file:\n",
        "  file.write(\"This string will be appended to the file!\")"
      ],
      "metadata": {
        "id": "O5AmnFl_nJVY"
      },
      "execution_count": 8,
      "outputs": []
    },
    {
      "cell_type": "markdown",
      "source": [
        "2. Write a Python program to read the contents of a file and print each line"
      ],
      "metadata": {
        "id": "eH4AFGlBnsHl"
      }
    },
    {
      "cell_type": "code",
      "source": [
        "file_path=\"example.txt\"\n",
        "\n",
        "with open(file_path,'r')as file:\n",
        "\n",
        "  for line in file:\n",
        "    print(line.strip())"
      ],
      "metadata": {
        "colab": {
          "base_uri": "https://localhost:8080/"
        },
        "id": "q3ikqIkhneHl",
        "outputId": "acdc54c2-bdf7-4d38-f581-9862ffd3957b"
      },
      "execution_count": 9,
      "outputs": [
        {
          "output_type": "stream",
          "name": "stdout",
          "text": [
            "Hello, this is a string written to the file!This string will be appended to the file!\n"
          ]
        }
      ]
    },
    {
      "cell_type": "markdown",
      "source": [
        "3. How would you handle a case where the file does not exist while trying to open it for reading?\n"
      ],
      "metadata": {
        "id": "Q6rqULAToIX_"
      }
    },
    {
      "cell_type": "code",
      "source": [
        "try:\n",
        "  with open(\"example.txt\",'r')as file:\n",
        "    content=file.read()\n",
        "    print(content)\n",
        "except FileNotFoundError:\n",
        "  print(\"The file does not exist.\")"
      ],
      "metadata": {
        "colab": {
          "base_uri": "https://localhost:8080/"
        },
        "id": "8KzT29XZpHex",
        "outputId": "21c7b080-0447-46d4-c5bb-86ac0023f827"
      },
      "execution_count": 10,
      "outputs": [
        {
          "output_type": "stream",
          "name": "stdout",
          "text": [
            "Hello, this is a string written to the file!This string will be appended to the file!\n"
          ]
        }
      ]
    },
    {
      "cell_type": "markdown",
      "source": [
        "4. Write a Python script that reads from one file and write its content to another file."
      ],
      "metadata": {
        "id": "9lYb8K2Npeek"
      }
    },
    {
      "cell_type": "code",
      "source": [
        "#Define the source and destination file paths\n",
        "\n",
        "source_file=\"source.txt\"\n",
        "dest_file=\"dest.txt\"\n",
        "\n",
        "try:\n",
        "  with open(source_file,'r')as src, open (dest_file,'w')as dest:\n",
        "    #read the content from the source file\n",
        "    content=src.read()\n",
        "    #write tge content to destination file\n",
        "    dest.write(content)\n",
        "\n",
        "  print(f\"Content from {source_file} has been successfully copied to {dest_file}\")\n",
        "\n",
        "except FileNotFoundError:\n",
        "  print(f\"The file {source_file} was not found.\")\n",
        "except IOError as e:\n",
        "  print(f\"An error occured: {e}\")"
      ],
      "metadata": {
        "colab": {
          "base_uri": "https://localhost:8080/"
        },
        "id": "wFWQeKkopsQ7",
        "outputId": "c5cece18-dd50-40bb-d297-b9efffbe9ad8"
      },
      "execution_count": 11,
      "outputs": [
        {
          "output_type": "stream",
          "name": "stdout",
          "text": [
            "The file source.txt was not found.\n"
          ]
        }
      ]
    },
    {
      "cell_type": "markdown",
      "source": [
        "5. How would you catch and handle division bt zero error in Python ?"
      ],
      "metadata": {
        "id": "E9P4ZYk5qw-E"
      }
    },
    {
      "cell_type": "code",
      "source": [
        "try:\n",
        "  num=10\n",
        "  den=0\n",
        "  result=num/den\n",
        "  print(result)\n",
        "except ZeroDivisionError:\n",
        "  print(\"Error: cannot divide by zero!\")"
      ],
      "metadata": {
        "colab": {
          "base_uri": "https://localhost:8080/"
        },
        "id": "6h0zB9FrqtB9",
        "outputId": "052d6218-74d0-4fa3-aad3-f8cf6b7a6963"
      },
      "execution_count": 12,
      "outputs": [
        {
          "output_type": "stream",
          "name": "stdout",
          "text": [
            "Error: cannot divide by zero!\n"
          ]
        }
      ]
    },
    {
      "cell_type": "markdown",
      "source": [
        "6. Write a Python program that logs an error message to a log file when a division by zero exception occurs."
      ],
      "metadata": {
        "id": "6NtP0dykrWd-"
      }
    },
    {
      "cell_type": "code",
      "source": [
        "import logging\n",
        "#set up logging configuration\n",
        "\n",
        "logging.basicConfig(filename='error_log.txt',level=logging.ERROR, format='%(asctime)s - %(levelname)s - %(message)s')\n",
        "\n",
        "def divide_numbers(numerator,denominator):\n",
        "  try:\n",
        "    result=numerator/denominator\n",
        "    return result\n",
        "  except ZeroDivisionError as e:\n",
        "    logging.error(f\"Error: Division by zero. Numerator: {numerator}, Denominator: {denominator}\")\n",
        "    print(\"Error: Cannot divide by Zero!\")\n",
        "    return None\n",
        "\n",
        "numerator=10\n",
        "denominator=0\n",
        "\n",
        "result=divide_numbers(numerator,denominator)\n",
        "\n",
        "if result is not None:\n",
        "  print(f\"Result of division: {result}\")\n",
        "else:\n",
        "  print(\"An error occured, check the log file for details\")"
      ],
      "metadata": {
        "colab": {
          "base_uri": "https://localhost:8080/"
        },
        "id": "v4UgDzhCrVA8",
        "outputId": "f00ee910-7503-4245-a6d2-9bda9a6c2eb3"
      },
      "execution_count": 13,
      "outputs": [
        {
          "output_type": "stream",
          "name": "stderr",
          "text": [
            "ERROR:root:Error: Division by zero. Numerator: 10, Denominator: 0\n"
          ]
        },
        {
          "output_type": "stream",
          "name": "stdout",
          "text": [
            "Error: Cannot divide by Zero!\n",
            "An error occured, check the log file for details\n"
          ]
        }
      ]
    },
    {
      "cell_type": "markdown",
      "source": [
        "7. How do you log information at different levels (INFO,ERROR,WARNING) in Python using the logging module?"
      ],
      "metadata": {
        "id": "hDK3jt1xtJJI"
      }
    },
    {
      "cell_type": "code",
      "source": [
        "import logging\n",
        "\n",
        "logging.basicConfig(\n",
        "    level=logging.DEBUG,\n",
        "    format='%(asctime)s - %(levelname)s - %(message)s',\n",
        "    handlers=[logging.StreamHandler()]\n",
        ")\n",
        "logging.debug(\"This is a debug message.\")\n",
        "logging.info(\"This is an info message.\")\n",
        "logging.warning(\"This is a warning message.\")\n",
        "logging.error(\"This is an error message.\")\n",
        "logging.critical(\"This is a critical message\")"
      ],
      "metadata": {
        "colab": {
          "base_uri": "https://localhost:8080/"
        },
        "id": "c9ShFqwgtG6b",
        "outputId": "4954142c-f5ff-42b6-b557-5d10ab31e3a0"
      },
      "execution_count": 14,
      "outputs": [
        {
          "output_type": "stream",
          "name": "stderr",
          "text": [
            "WARNING:root:This is a warning message.\n",
            "ERROR:root:This is an error message.\n",
            "CRITICAL:root:This is a critical message\n"
          ]
        }
      ]
    },
    {
      "cell_type": "markdown",
      "source": [
        "8. Write a program to handle a file opening error using exception handling."
      ],
      "metadata": {
        "id": "wpGigdLlut16"
      }
    },
    {
      "cell_type": "code",
      "source": [
        "try:\n",
        "  with open(\"non_existent_file.txt\",'r')as file:\n",
        "    content=file.read()\n",
        "    print(content)\n",
        "\n",
        "except FileNotFoundError:\n",
        "  print(\"Error: The file does not exist.\")\n",
        "\n",
        "except IOError as e:\n",
        "  print(f\"An IOError Occured: {e}\")\n",
        "\n",
        "except Exception as e:\n",
        "  print(f\"An unexpected error occured: {e}\")"
      ],
      "metadata": {
        "colab": {
          "base_uri": "https://localhost:8080/"
        },
        "id": "Bd3vkPOJusGU",
        "outputId": "3f419f73-a771-4b91-fd72-2f4fc877e57c"
      },
      "execution_count": 15,
      "outputs": [
        {
          "output_type": "stream",
          "name": "stdout",
          "text": [
            "Error: The file does not exist.\n"
          ]
        }
      ]
    },
    {
      "cell_type": "markdown",
      "source": [
        "9. How can you read a file line by line and store its content in a list in Python?"
      ],
      "metadata": {
        "id": "70aIbHLnvjQC"
      }
    },
    {
      "cell_type": "code",
      "source": [
        "try:\n",
        "  with open(\"example.txt\",'r')as file:\n",
        "    lines=file.readlines()\n",
        "\n",
        "    print(lines)\n",
        "except FileNotFoundError:\n",
        "  print(\"The file does not exist.\")\n",
        "\n",
        "except IOError as e:\n",
        "  print(f\"An error occured: {e}\")"
      ],
      "metadata": {
        "colab": {
          "base_uri": "https://localhost:8080/"
        },
        "id": "qfSUsa2Ivh6Z",
        "outputId": "4dc7f277-273d-43f9-a5c5-60960a16934c"
      },
      "execution_count": 16,
      "outputs": [
        {
          "output_type": "stream",
          "name": "stdout",
          "text": [
            "['Hello, this is a string written to the file!This string will be appended to the file!']\n"
          ]
        }
      ]
    },
    {
      "cell_type": "markdown",
      "source": [
        "10. How can you append data to an existing file in Python?\n"
      ],
      "metadata": {
        "id": "aY_jKkoLwMeO"
      }
    },
    {
      "cell_type": "code",
      "source": [
        "try:\n",
        "  with open(\"example.txt\",'a')as file:\n",
        "    file.write(\"\\nThis is an appended line\")\n",
        "\n",
        "  print(\"Data has been successfully appended to the file.\")\n",
        "\n",
        "except FileNotFoundError:\n",
        "  print(\"The file does not exist.\")\n",
        "\n",
        "except IOError as e:\n",
        "  print(f\"An error occured: {e}\")"
      ],
      "metadata": {
        "colab": {
          "base_uri": "https://localhost:8080/"
        },
        "id": "3eX0sBljwKWU",
        "outputId": "98fd2bee-1770-40f3-9d4b-4958d1a3d40d"
      },
      "execution_count": 17,
      "outputs": [
        {
          "output_type": "stream",
          "name": "stdout",
          "text": [
            "Data has been successfully appended to the file.\n"
          ]
        }
      ]
    },
    {
      "cell_type": "markdown",
      "source": [
        "11. Write a Python program that uses a try-except block to handle an error when attempting to access a dictionary key that does not exist."
      ],
      "metadata": {
        "id": "nO54z6m8ui82"
      }
    },
    {
      "cell_type": "code",
      "source": [
        "my_dict={\"name\":\"Rajat\",\"age\":21,\"city\":\"New York\"}\n",
        "\n",
        "key_to_access=\"country\"\n",
        "\n",
        "try:\n",
        "  value=my_dict[key_to_access]\n",
        "  print(f\"The value gor '{key_to_access}' is: {value}\")\n",
        "except KeyError:\n",
        "  print(f\"Error: The key '{key_to_access}' does not exist in the dictionary.\")"
      ],
      "metadata": {
        "id": "Zg88vIYBw5GA",
        "colab": {
          "base_uri": "https://localhost:8080/"
        },
        "outputId": "504d0ba8-c2e3-4cc7-ddaf-04cc9f563f21"
      },
      "execution_count": 18,
      "outputs": [
        {
          "output_type": "stream",
          "name": "stdout",
          "text": [
            "Error: The key 'country' does not exist in the dictionary.\n"
          ]
        }
      ]
    },
    {
      "cell_type": "markdown",
      "source": [
        "12. Write a program that demonstrates using multiple except blocks to handle different types of exception."
      ],
      "metadata": {
        "id": "n_sjj7DVvylM"
      }
    },
    {
      "cell_type": "code",
      "source": [
        "def divide_numbers():\n",
        "  try:\n",
        "    num1=float(input(\"Enter the first no:\"))\n",
        "    num2=float(input(\"Enter the second no.\"))\n",
        "\n",
        "    result=num1/num2\n",
        "    print(f\"The result of {num1} divided by {num2} is : {result}\")\n",
        "\n",
        "  except ValueError:\n",
        "    print(f\"Error: Invalid input. Please enter numbers only.\")\n",
        "\n",
        "  except ZeroDivisionError:\n",
        "    print(\"Error:Division by zero is not allowed.\")\n",
        "\n",
        "  except Exception as e:\n",
        "    print(f\"An unexpected error occured: {e}\")\n",
        "\n",
        "divide_numbers()\n"
      ],
      "metadata": {
        "colab": {
          "base_uri": "https://localhost:8080/"
        },
        "id": "7q_Og4hSvxLT",
        "outputId": "480c86b0-7f90-4610-a99e-04e382962af0"
      },
      "execution_count": 19,
      "outputs": [
        {
          "output_type": "stream",
          "name": "stdout",
          "text": [
            "Enter the first no:15\n",
            "Enter the second no.15\n",
            "The result of 15.0 divided by 15.0 is : 1.0\n"
          ]
        }
      ]
    },
    {
      "cell_type": "markdown",
      "source": [
        "13. How would you check if a file exists before attempting to read it in Python?"
      ],
      "metadata": {
        "id": "juf-O_BVyPsL"
      }
    },
    {
      "cell_type": "code",
      "source": [
        "import os\n",
        "\n",
        "if os.path.exists(file_path):\n",
        "  with open(file_path,'r')as file:\n",
        "    content=file.read()\n",
        "    print(content)\n",
        "else:\n",
        "  print(f\"The file '{file_path}' does not exist\")"
      ],
      "metadata": {
        "colab": {
          "base_uri": "https://localhost:8080/"
        },
        "id": "_Dtq65xaxoz-",
        "outputId": "c9d80557-1d24-4cbf-e35d-0920ccc2678b"
      },
      "execution_count": 20,
      "outputs": [
        {
          "output_type": "stream",
          "name": "stdout",
          "text": [
            "Hello, this is a string written to the file!This string will be appended to the file!\n",
            "This is an appended line\n"
          ]
        }
      ]
    },
    {
      "cell_type": "markdown",
      "source": [
        "14. Write a program that uses the logging module to log both informational mand error messages."
      ],
      "metadata": {
        "id": "SjJLz1dtzBeM"
      }
    },
    {
      "cell_type": "code",
      "source": [
        "import logging\n",
        "\n",
        "logging.basicConfig(\n",
        "    level=logging.DEBUG,\n",
        "    format='%(asctime)s - %(levelname)s - %(message)s',\n",
        "    handlers=[logging.StreamHandler()]\n",
        ")\n",
        "\n",
        "logging.info(\"This is an informational message\")\n",
        "\n",
        "try:\n",
        "  result=10/0\n",
        "except ZeroDivisionError as e:\n",
        "  logging.error(f\"Error occured: {e}\")\n",
        "\n",
        "\n",
        "logging.debug(\"This is a debug message.\")\n",
        "logging.warning(\"This is a warning message\")\n",
        "logging.critical(\"This is a critical message\")"
      ],
      "metadata": {
        "colab": {
          "base_uri": "https://localhost:8080/"
        },
        "id": "nDXNdonxy--Z",
        "outputId": "20b80838-04b9-4c14-d9df-8bb64c78f5b1"
      },
      "execution_count": 21,
      "outputs": [
        {
          "output_type": "stream",
          "name": "stderr",
          "text": [
            "ERROR:root:Error occured: division by zero\n",
            "WARNING:root:This is a warning message\n",
            "CRITICAL:root:This is a critical message\n"
          ]
        }
      ]
    },
    {
      "cell_type": "markdown",
      "source": [
        "15. Write a python program thatr prints the content of a file and handles the case when the file is empty."
      ],
      "metadata": {
        "id": "QcZQn_me0set"
      }
    },
    {
      "cell_type": "code",
      "source": [
        "def read_file(file_path):\n",
        "  try:\n",
        "    with open(file_path,'r')as file:\n",
        "      content=file.read().strip()\n",
        "\n",
        "      if not content:\n",
        "        print(\"The file is empty\")\n",
        "      else:\n",
        "        print(\"File content\")\n",
        "        print(content)\n",
        "  except FileNotFoundError:\n",
        "    print(f\"Error: The file '{file_path}' was not found.\")\n",
        "  except Exception as e:\n",
        "    print(f\"An error occured: {e}\")\n",
        "\n",
        "file_path=\"example.txt\"\n",
        "read_file(file_path)"
      ],
      "metadata": {
        "colab": {
          "base_uri": "https://localhost:8080/"
        },
        "id": "468wvoTa0iqE",
        "outputId": "41b5408c-f793-45b1-ddd7-14769f57342f"
      },
      "execution_count": 22,
      "outputs": [
        {
          "output_type": "stream",
          "name": "stdout",
          "text": [
            "File content\n",
            "Hello, this is a string written to the file!This string will be appended to the file!\n",
            "This is an appended line\n"
          ]
        }
      ]
    },
    {
      "cell_type": "markdown",
      "source": [
        "16. Demonstrate how to use memory profiling to check memory usage of a small program."
      ],
      "metadata": {
        "id": "tsGt1Bf72IzB"
      }
    },
    {
      "source": [
        "!pip install memory_profiler\n",
        "from memory_profiler import profile\n",
        "\n",
        "@profile\n",
        "def create_large_list():\n",
        "    # Creates a large list of numbers\n",
        "    return [i for i in range(1000000)]\n",
        "\n",
        "@profile\n",
        "def calculate_squares(numbers):\n",
        "    # Calculates squares of the numbers\n",
        "    return [n**2 for n in numbers]\n",
        "\n",
        "if __name__ == \"__main__\":\n",
        "    numbers = create_large_list()\n",
        "    squares = calculate_squares(numbers)"
      ],
      "cell_type": "code",
      "metadata": {
        "colab": {
          "base_uri": "https://localhost:8080/"
        },
        "id": "6_aGKNNWWQxB",
        "outputId": "4907ec18-e472-4454-8018-7907601b4cc2"
      },
      "execution_count": 27,
      "outputs": [
        {
          "output_type": "stream",
          "name": "stdout",
          "text": [
            "Requirement already satisfied: memory_profiler in /usr/local/lib/python3.11/dist-packages (0.61.0)\n",
            "Requirement already satisfied: psutil in /usr/local/lib/python3.11/dist-packages (from memory_profiler) (5.9.5)\n",
            "ERROR: Could not find file <ipython-input-27-2efda3173380>\n",
            "NOTE: %mprun can only be used on functions defined in physical files, and not in the IPython environment.\n",
            "ERROR: Could not find file <ipython-input-27-2efda3173380>\n",
            "NOTE: %mprun can only be used on functions defined in physical files, and not in the IPython environment.\n"
          ]
        }
      ]
    },
    {
      "cell_type": "markdown",
      "source": [
        "17. Write a python program to create and write a list of numbers to a file , one number per line."
      ],
      "metadata": {
        "id": "gC5_CVr_WcSR"
      }
    },
    {
      "source": [
        "def write_nums_to_file(file_name,numbers):\n",
        "  with open(file_name,'w')as file:\n",
        "    for number in numbers:\n",
        "      file.write(f\"{number}\\n\")\n",
        "\n",
        "if __name__ == \"__main__\":\n",
        "  numbers=[1,2,3,4,5,6,7,8,9,10]\n",
        "\n",
        "  file_name=\"numbers.txt\"\n",
        "\n",
        "  # Call the function with the correct name: write_nums_to_file\n",
        "  write_nums_to_file(file_name,numbers)\n",
        "  print(f\"Numbers have been written to {file_name}\")"
      ],
      "cell_type": "code",
      "metadata": {
        "colab": {
          "base_uri": "https://localhost:8080/"
        },
        "id": "ZV1F4W-OXsnu",
        "outputId": "d34c57ec-ef8a-47e9-fdf1-bb6a3af8dbfa"
      },
      "execution_count": 29,
      "outputs": [
        {
          "output_type": "stream",
          "name": "stdout",
          "text": [
            "Numbers have been written to numbers.txt\n"
          ]
        }
      ]
    },
    {
      "cell_type": "markdown",
      "source": [
        "18. How would you implement a basic logging setup that logs to a file with rotation after 1MB?"
      ],
      "metadata": {
        "id": "BunvxW1JXyMv"
      }
    },
    {
      "source": [
        "import logging\n",
        "from logging.handlers import RotatingFileHandler\n",
        "\n",
        "def setup_logger():\n",
        "  logger=logging.getLogger('my_logger')\n",
        "  logger.setLevel(logging.DEBUG) # Changed 'setlevel' to 'setLevel'\n",
        "\n",
        "  handler=RotatingFileHandler('app.log',maxBytes=1e6,backupCount=3)\n",
        "  handler.setLevel(logging.DEBUG)\n",
        "\n",
        "  formatter=logging.Formatter('%asctime)s - %(name)s  - %(message)s')\n",
        "  handler.setFormatter(formatter)\n",
        "\n",
        "  logger.addHandler(handler)\n",
        "\n",
        "  return logger\n",
        "\n",
        "if __name__ == \"__main__\":\n",
        "  logger=setup_logger()\n",
        "\n",
        "\n",
        "  logger.debug(\"This is a debug message\")\n",
        "  logger.info(\"This is an info message\")\n",
        "  logger.warning(\"This is a warning message\")\n",
        "  logger.error(\"This is an error message\")\n",
        "  logger.critical(\"This is a critical message\")"
      ],
      "cell_type": "code",
      "metadata": {
        "colab": {
          "base_uri": "https://localhost:8080/"
        },
        "id": "TQgIXQQ2aIzA",
        "outputId": "2531008f-8b6f-44ae-beff-ba5f7f2a3132"
      },
      "execution_count": 31,
      "outputs": [
        {
          "output_type": "stream",
          "name": "stderr",
          "text": [
            "DEBUG:my_logger:This is a debug message\n",
            "INFO:my_logger:This is an info message\n",
            "WARNING:my_logger:This is a warning message\n",
            "ERROR:my_logger:This is an error message\n",
            "CRITICAL:my_logger:This is a critical message\n"
          ]
        }
      ]
    },
    {
      "cell_type": "markdown",
      "source": [
        "19. write a program that handles both IndexError and KeyError using a try-except block."
      ],
      "metadata": {
        "id": "zvHKq-GVaNBx"
      }
    },
    {
      "cell_type": "code",
      "source": [
        "def handle_error():\n",
        "  my_list=[1,2,3]\n",
        "  my_dict={'a':1,'b':2}\n",
        "\n",
        "  try:\n",
        "    print(my_list[5])\n",
        "\n",
        "    print(my-dict['c'])\n",
        "\n",
        "  except IndexError as e:\n",
        "    print(f\"IndexError occured: {e}\")\n",
        "\n",
        "  except KeyError as e:\n",
        "    print(f\"KeyError occured: {e}\")\n",
        "\n",
        "if __name__ ==\"__main__\":\n",
        "  handle_error()"
      ],
      "metadata": {
        "colab": {
          "base_uri": "https://localhost:8080/"
        },
        "id": "_zS5qRr7Z6CF",
        "outputId": "e0f30e59-93c8-4ba2-bd5c-217e1c5d0cf3"
      },
      "execution_count": 32,
      "outputs": [
        {
          "output_type": "stream",
          "name": "stdout",
          "text": [
            "IndexError occured: list index out of range\n"
          ]
        }
      ]
    },
    {
      "cell_type": "markdown",
      "source": [
        "20. How would you open a file and read its contents using a context manager in Python?"
      ],
      "metadata": {
        "id": "v_xe5QQTbOTB"
      }
    },
    {
      "cell_type": "code",
      "source": [
        "def read_file(file_name):\n",
        "  with open(file_name,'r')as file:\n",
        "    contents=file.read()\n",
        "    return contents\n",
        "\n",
        "if __name__ == \"__main__\":\n",
        "  file_name= 'example.txt'\n",
        "\n",
        "  file_contents=read_file(file_name)\n",
        "  print(file_contents)"
      ],
      "metadata": {
        "colab": {
          "base_uri": "https://localhost:8080/"
        },
        "id": "zCv1BzCRbNKI",
        "outputId": "621cb4ef-d4c3-4e0c-813a-9e45d094e9a7"
      },
      "execution_count": 34,
      "outputs": [
        {
          "output_type": "stream",
          "name": "stdout",
          "text": [
            "Hello, this is a string written to the file!This string will be appended to the file!\n",
            "This is an appended line\n"
          ]
        }
      ]
    },
    {
      "cell_type": "markdown",
      "source": [
        "21. Write a Python program that reads a file and prints the number of occurences of a specific word."
      ],
      "metadata": {
        "id": "9f2xaMqucAhb"
      }
    },
    {
      "cell_type": "code",
      "source": [
        "def count_word_in_file(file_name, word):\n",
        "    try:\n",
        "        # Open the file using a context manager\n",
        "        with open(file_name, 'r') as file:\n",
        "            # Read the file's content\n",
        "            contents = file.read()\n",
        "\n",
        "            # Split the content into words and count occurrences of the specific word\n",
        "            word_count = contents.lower().split().count(word.lower())\n",
        "\n",
        "            return word_count\n",
        "    except FileNotFoundError:\n",
        "        print(f\"Error: The file '{file_name}' was not found.\")\n",
        "        return 0\n",
        "\n",
        "if __name__ == \"__main__\":\n",
        "    # Specify the file name and the word to search\n",
        "    file_name = 'example.txt'\n",
        "    word_to_search = 'python'\n",
        "\n",
        "    # Count the occurrences of the word\n",
        "    occurrences = count_word_in_file(file_name, word_to_search)\n",
        "\n",
        "    # Print the result\n",
        "    if occurrences > 0:\n",
        "        print(f\"The word '{word_to_search}' appears {occurrences} time(s) in the file.\")\n",
        "    else:\n",
        "        print(f\"The word '{word_to_search}' does not appear in the file.\")\n"
      ],
      "metadata": {
        "colab": {
          "base_uri": "https://localhost:8080/"
        },
        "id": "GRKKlWbYb6GW",
        "outputId": "36485be4-b861-4cd9-aea9-194a9376f036"
      },
      "execution_count": 35,
      "outputs": [
        {
          "output_type": "stream",
          "name": "stdout",
          "text": [
            "The word 'python' does not appear in the file.\n"
          ]
        }
      ]
    },
    {
      "cell_type": "markdown",
      "source": [
        "22. How can you check if a file is empty before attempting to read its contents?"
      ],
      "metadata": {
        "id": "RuXX8T7YcWkv"
      }
    },
    {
      "cell_type": "code",
      "source": [
        "import os\n",
        "def is_file_empty(file_name):\n",
        "  return os.path.getsize(file_name)==0\n",
        "\n",
        "def read_file(file_name):\n",
        "  if is_file_empty(file_name):\n",
        "    print(f\"The file '{file_name}' is empty.\")\n",
        "  else:\n",
        "    with open(file_name,'r')as file:\n",
        "      contents= file.read()\n",
        "      print(f\"File Contents:\\n{contents}\")\n",
        "\n",
        "if __name__==\"__main__\":\n",
        "  file_name='example.txt'\n",
        "  read_file(file_name)"
      ],
      "metadata": {
        "colab": {
          "base_uri": "https://localhost:8080/"
        },
        "id": "GJGd4YbBcRcj",
        "outputId": "eaed57fe-93c9-40ef-f9c1-de11f36c25f9"
      },
      "execution_count": 36,
      "outputs": [
        {
          "output_type": "stream",
          "name": "stdout",
          "text": [
            "File Contents:\n",
            "Hello, this is a string written to the file!This string will be appended to the file!\n",
            "This is an appended line\n"
          ]
        }
      ]
    },
    {
      "cell_type": "markdown",
      "source": [
        "23. Write a Python program that writes to a log file when an error occurs during file handling."
      ],
      "metadata": {
        "id": "3JDbA_7udWXO"
      }
    },
    {
      "cell_type": "code",
      "source": [
        "import logging\n",
        "\n",
        "# Set up logging configuration\n",
        "logging.basicConfig(\n",
        "    filename='file_handling_errors.log',  # Log file where errors will be saved\n",
        "    level=logging.ERROR,                  # Log only errors or more severe issues\n",
        "    format='%(asctime)s - %(levelname)s - %(message)s'\n",
        ")\n",
        "\n",
        "def read_file(file_name):\n",
        "    try:\n",
        "        with open(file_name, 'r') as file:\n",
        "            contents = file.read()\n",
        "            print(contents)\n",
        "    except FileNotFoundError as e:\n",
        "        logging.error(f\"File '{file_name}' not found: {e}\")\n",
        "        print(f\"Error: File '{file_name}' not found.\")\n",
        "    except IOError as e:\n",
        "        logging.error(f\"IOError occurred while handling file '{file_name}': {e}\")\n",
        "        print(f\"Error: An IOError occurred while handling file '{file_name}'.\")\n",
        "    except Exception as e:\n",
        "        logging.error(f\"Unexpected error: {e}\")\n",
        "        print(f\"An unexpected error occurred: {e}\")\n",
        "\n",
        "def write_to_file(file_name, data):\n",
        "    try:\n",
        "        with open(file_name, 'w') as file:\n",
        "            file.write(data)\n",
        "            print(f\"Data has been written to '{file_name}'.\")\n",
        "    except IOError as e:\n",
        "        logging.error(f\"IOError occurred while writing to file '{file_name}': {e}\")\n",
        "        print(f\"Error: An IOError occurred while writing to file '{file_name}'.\")\n",
        "    except Exception as e:\n",
        "        logging.error(f\"Unexpected error: {e}\")\n",
        "        print(f\"An unexpected error occurred: {e}\")\n",
        "\n",
        "if __name__ == \"__main__\":\n",
        "    read_file('non_existent_file.txt')\n",
        "    write_to_file('readonly_file.txt', 'This is some data.')"
      ],
      "metadata": {
        "colab": {
          "base_uri": "https://localhost:8080/"
        },
        "id": "Kucper7QdUBc",
        "outputId": "ad15f80f-d424-4240-bfc3-eae4c5b5eda2"
      },
      "execution_count": 37,
      "outputs": [
        {
          "output_type": "stream",
          "name": "stderr",
          "text": [
            "ERROR:root:File 'non_existent_file.txt' not found: [Errno 2] No such file or directory: 'non_existent_file.txt'\n"
          ]
        },
        {
          "output_type": "stream",
          "name": "stdout",
          "text": [
            "Error: File 'non_existent_file.txt' not found.\n",
            "Data has been written to 'readonly_file.txt'.\n"
          ]
        }
      ]
    },
    {
      "cell_type": "code",
      "source": [],
      "metadata": {
        "id": "Y8SVs0BidzMD"
      },
      "execution_count": null,
      "outputs": []
    }
  ]
}